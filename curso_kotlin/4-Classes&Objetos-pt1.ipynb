{
 "cells": [
  {
   "cell_type": "raw",
   "metadata": {
    "collapsed": false
   },
   "source": []
  },
  {
   "cell_type": "markdown",
   "metadata": {
    "collapsed": false
   },
   "source": [
    "# Classes e Objetos - Parte 1: Conceitos de OOP, classes e objetos, override de gets e sets.\n",
    "\n",
    "- Conceitos de OOP: Kotlin é uma linguagem orientada a objetos e suporta conceitos como classes, objetos, herança, encapsulamento e polimorfismo.\n",
    "- Classes e objetos: Uma classe é um modelo ou plano a partir do qual os objetos são criados. Um objeto é uma instância de uma classe.\n",
    "- Override de gets e sets: Kotlin permite que você substitua os métodos get e set padrão de uma propriedade.\n",
    "\n",
    "Este documento foi desenvolvido pelos seguintes alunos de TSI do IFPB, sob subervisão do professor Gustavo Wagner (2024.1 | 2024.2):\n",
    "1. Brian Rafael\n",
    "2. Juan Leite\n",
    "3. Marcela Kramer\n",
    "4. Matheus Pereira\n",
    "5. Peter Simon\n",
    "6. Pablo de Lima\n",
    "7. José Guilherme\n",
    "8. Lucas Emiliano\n",
    "9. Mellanie Marques\n",
    "10. Nirielly Brito\n",
    "11. Sofia Leal\n"
   ]
  },
  {
   "cell_type": "markdown",
   "metadata": {
    "collapsed": false
   },
   "source": "## 1. Conceitos de POO\n"
  },
  {
   "cell_type": "markdown",
   "metadata": {
    "collapsed": false
   },
   "source": "### 1.1 Definição de POO"
  },
  {
   "cell_type": "markdown",
   "metadata": {
    "collapsed": false
   },
   "source": "A programação orientada a objetos representa em forma de código as entidades do domínio de um problema do mundo real. Em comparação à programação estruturada, garante mais segurança durante o acesso às informações, reutilização de código, facilidade de manutenção e maior semelhança com a realidade."
  },
  {
   "cell_type": "markdown",
   "metadata": {
    "collapsed": false
   },
   "source": "### 1.2 Princípios de POO"
  },
  {
   "cell_type": "markdown",
   "metadata": {
    "collapsed": false
   },
   "source": "#### 1.2.1 Classes e Objetos"
  },
  {
   "cell_type": "markdown",
   "metadata": {
    "collapsed": false
   },
   "source": "Classe é uma estrutura que representa uma entidade e pode conter atributos e métodos que estão relacionados, respectivamente, às características e aos comportamentos dela. O objeto, por sua vez, é uma instância dessa classe, pois possui as mesmas propriedades e comporta-se de acordo com os métodos do modelo."
  },
  {
   "cell_type": "markdown",
   "metadata": {
    "collapsed": false
   },
   "source": "#### 1.2.2 Encapsulamento"
  },
  {
   "cell_type": "markdown",
   "metadata": {
    "collapsed": false
   },
   "source": "No encapsulamento, os detalhes internos de uma classe tornam-se privados ou protegidos e não é possível manipulá-los diretamente, somente por meio de métodos públicos."
  },
  {
   "cell_type": "markdown",
   "metadata": {
    "collapsed": false
   },
   "source": "#### 1.2.3 Herança"
  },
  {
   "cell_type": "markdown",
   "metadata": {
    "collapsed": false
   },
   "source": "Na herança, uma classe herda características e comportamentos de outra classe. A classe herdeira é chamada de subclasse e pode estender ou modificar o comportamento da superclasse (como é conhecida a classe da qual a estrutura foi herdada)."
  },
  {
   "cell_type": "markdown",
   "metadata": {
    "collapsed": false
   },
   "source": "#### 1.2.4 Polimorfismo"
  },
  {
   "metadata": {},
   "cell_type": "markdown",
   "source": "No polimorfismo, objetos de diferentes classes podem ser tratados de maneira uniforme, desde que pertençam a um mesmo tipo, que se refere a uma interface ou a uma superclasse."
  },
  {
   "cell_type": "markdown",
   "metadata": {
    "collapsed": false
   },
   "source": [
    "## 2. Classes e objetos"
   ]
  },
  {
   "cell_type": "markdown",
   "metadata": {
    "collapsed": false
   },
   "source": [
    "### 2.1 Criando nossa primeira classe\n",
    "\n",
    "Obs:\n",
    "A estrutura básica é definir os parâmetros entre parênteses o corpo da classe por chaves.\n",
    "Ambos são opcionais, sendo assim, podem ser omitidos.\n",
    "\n",
    "Abaixo, foi definida uma classe chamada `PrimeiraClasse`."
   ]
  },
  {
   "cell_type": "code",
   "metadata": {
    "collapsed": false,
    "ExecuteTime": {
     "end_time": "2024-11-09T00:44:22.016609900Z",
     "start_time": "2024-11-09T00:44:21.914303800Z"
    }
   },
   "source": [
    "class PrimeiraClasse"
   ],
   "outputs": [],
   "execution_count": 2
  },
  {
   "cell_type": "markdown",
   "metadata": {
    "collapsed": false
   },
   "source": [
    "### 2.2 Criando instâncias de classes\n",
    "Para criar uma instância de uma classe, basta chamar o construtor como se fosse uma função regular.\n",
    "\n",
    "No exemplo, como a a classe `PrimeiraClasse` foi definida anteriormente, é chamado seu construtor."
   ]
  },
  {
   "cell_type": "code",
   "metadata": {
    "collapsed": false,
    "ExecuteTime": {
     "end_time": "2024-11-09T00:44:24.108221300Z",
     "start_time": "2024-11-09T00:44:23.941685400Z"
    }
   },
   "source": [
    "val primeiraInstanciaDaClasse = PrimeiraClasse()\n",
    "\n",
    "println(\"Essa é a minha primeira classe $primeiraInstanciaDaClasse.\")"
   ],
   "outputs": [
    {
     "name": "stdout",
     "output_type": "stream",
     "text": [
      "Essa é a minha primeira classe Line_3_jupyter$PrimeiraClasse@3d66e71e.\r\n"
     ]
    }
   ],
   "execution_count": 3
  },
  {
   "cell_type": "markdown",
   "metadata": {
    "collapsed": false
   },
   "source": "*OBSERVAÇÃO: O Kotlin não possui a palavra-chave new.*"
  },
  {
   "cell_type": "markdown",
   "metadata": {
    "collapsed": false
   },
   "source": [
    "### 2.3 Construtores\n",
    "\n",
    "No Kotlin, toda classe tem um construtor primário e, talvez, construtores secundários.\n",
    "\n",
    "No exemplo, é definido o construtor da classe `Professor` que recebe os parâmametros: `matricula` e `nome`."
   ]
  },
  {
   "cell_type": "code",
   "metadata": {
    "collapsed": false
   },
   "source": [
    "class Professor constructor(val matricula: Long, var nome: String)\n",
    "\n",
    "val gugawag = Professor(2254024, \"Gustavo Wagner\")"
   ],
   "outputs": [],
   "execution_count": null
  },
  {
   "cell_type": "markdown",
   "metadata": {
    "collapsed": false
   },
   "source": [
    "Se o construtor primário não tiver nenhuma nenhum decorator (@Inject, @Target, @Retention, ...) e nenhum modificador de visibilidade (public, internal, protected, ...), podemos omití-lo, como foi feito abaixo."
   ]
  },
  {
   "cell_type": "code",
   "metadata": {
    "collapsed": false
   },
   "source": [
    "class Professor (val matricula: Long, var nome: String)\n",
    "\n",
    "val gugawag = Professor(2254024, \"Gustavo Wagner\")"
   ],
   "outputs": [],
   "execution_count": null
  },
  {
   "cell_type": "markdown",
   "metadata": {
    "collapsed": false
   },
   "source": [
    "Caso deseje executar algum código durante a criação dos objetos deve-se utilizar blocos de inicialização.\n",
    "Os blocos de inicialização são declarados utilizando a palavra-chave **init**.\n",
    "\n",
    "No exemplo abaixo, é criada uma classe `ListaDeCompras` que utiliza blocos de inicialização para preencher a lista e exibir seus itens."
   ]
  },
  {
   "cell_type": "code",
   "metadata": {
    "collapsed": false,
    "ExecuteTime": {
     "end_time": "2024-11-09T00:44:00.038625900Z",
     "start_time": "2024-11-09T00:43:59.301261500Z"
    }
   },
   "source": [
    "class ListaDeCompras {\n",
    "    val itens: MutableList<String> = mutableListOf()\n",
    "\n",
    "    init {\n",
    "        itens.add(\"Maçã\")\n",
    "        itens.add(\"Banana\")\n",
    "        itens.add(\"Laranja\")\n",
    "        println(\"\\nPrimeira versão da lista: \")\n",
    "        println(\"$itens\")\n",
    "    }\n",
    "\n",
    "    init {\n",
    "        itens.add(\"Kiwi\")\n",
    "        itens.add(\"Morango\")\n",
    "        println(\"Segunda versão da lista: \")\n",
    "        println(\"$itens\")\n",
    "    }\n",
    "}\n",
    "\n",
    "\n",
    "val lista = ListaDeCompras()"
   ],
   "outputs": [
    {
     "name": "stdout",
     "output_type": "stream",
     "text": [
      "\n",
      "Primeira versão da lista: \r\n",
      "[Maçã, Banana, Laranja]\r\n",
      "Segunda versão da lista: \r\n",
      "[Maçã, Banana, Laranja, Kiwi, Morango]\r\n"
     ]
    }
   ],
   "execution_count": 1
  },
  {
   "cell_type": "markdown",
   "metadata": {
    "collapsed": false
   },
   "source": [
    "Podemos ainda tratar os valores recebidos como parâmetros.\n",
    "\n",
    "Abaixo, é criada a classe `Usuario` que, ao inicializada, garante que a primeira letra do `nome` do usuário seja maiúscula.\n"
   ]
  },
  {
   "cell_type": "code",
   "metadata": {
    "collapsed": false,
    "ExecuteTime": {
     "end_time": "2024-11-09T00:44:31.694451700Z",
     "start_time": "2024-11-09T00:44:30.929706800Z"
    }
   },
   "source": [
    "class Usuario(val id: Long, nome: String) {\n",
    "    val nome: String = nome.replaceFirstChar { if (it.isLowerCase()) it.titlecase() else it.toString() }\n",
    "}\n",
    "\n",
    "val gugawag = Usuario(2254024, \"gustavo\")\n",
    "println(gugawag.nome)"
   ],
   "outputs": [
    {
     "name": "stdout",
     "output_type": "stream",
     "text": [
      "Gustavo\r\n"
     ]
    }
   ],
   "execution_count": 4
  },
  {
   "cell_type": "markdown",
   "metadata": {
    "collapsed": false
   },
   "source": [
    "Podemos também adicionar valores _default_ aos parâmetros da classe.\n",
    "\n",
    "Abaixo, é criada a classe `Produto` que recebe alguns valores _default_ em seus parâmetros.\n",
    "\n",
    "Perceba que não é passado nenhum parâmetro quando ela é instanciada, mas, mesmo assim, seus atributos mostram valores quando acessados."
   ]
  },
  {
   "cell_type": "code",
   "metadata": {
    "collapsed": false,
    "ExecuteTime": {
     "end_time": "2024-11-09T00:44:36.284334700Z",
     "start_time": "2024-11-09T00:44:35.958985600Z"
    }
   },
   "source": [
    "class Produto(val nome: String = \"Produto\", val preco: Double = 0.0, val disponivel: Boolean = true)\n",
    "\n",
    "val produto =  Produto()\n",
    "println(\"Nome do produto: ${produto.nome}\")\n",
    "println(\"Preço do produto: ${produto.preco}\")\n",
    "println(\"Disponibilidade do produto: ${produto.disponivel}\")"
   ],
   "outputs": [
    {
     "name": "stdout",
     "output_type": "stream",
     "text": [
      "Nome do produto: Produto\r\n",
      "Preço do produto: 0.0\r\n",
      "Disponibilidade do produto: true\r\n"
     ]
    }
   ],
   "execution_count": 5
  },
  {
   "cell_type": "markdown",
   "metadata": {
    "collapsed": false
   },
   "source": [
    "### 2.4 Companion Object\n",
    "\n",
    "O _Companion Object_ em Kotlin permite a criação de membros estáticos dentro de uma classe, acessíveis sem a necessidade de instanciar a classe. É útil para organizar funcionalidades compartilhadas por todas as instâncias da classe.\n",
    "\n",
    "No exemplo, é criada a classe `Aluno` que possui um _Companion Object_ com a variável `contador`. Veja que essa variável é incrementada toda vez que é criado um objeto dessa classe."
   ]
  },
  {
   "metadata": {
    "ExecuteTime": {
     "end_time": "2024-11-09T01:11:00.614477900Z",
     "start_time": "2024-11-09T01:11:00.486007700Z"
    }
   },
   "cell_type": "code",
   "source": [
    "class Aluno {\n",
    "    companion object {\n",
    "        var contador = 0\n",
    "    }\n",
    "\n",
    "    constructor() {\n",
    "        contador += 1\n",
    "        println(\"Objeto Aluno de número: $contador\")\n",
    "    }\n",
    "}"
   ],
   "outputs": [],
   "execution_count": 108
  },
  {
   "metadata": {
    "ExecuteTime": {
     "end_time": "2024-11-09T01:11:04.509842800Z",
     "start_time": "2024-11-09T01:11:04.412947600Z"
    }
   },
   "cell_type": "code",
   "source": [
    "val aluno1 = Aluno() // contador = 1 \n",
    "val aluno2 = Aluno() // contador = 2\n",
    "println(\"\\nQuantidade total de alunos: \"+ Aluno.contador)"
   ],
   "outputs": [
    {
     "name": "stdout",
     "output_type": "stream",
     "text": [
      "Objeto Aluno de número: 1\r\n",
      "Objeto Aluno de número: 2\r\n",
      "\n",
      "Quantidade total de alunos: 2\r\n"
     ]
    }
   ],
   "execution_count": 109
  },
  {
   "metadata": {},
   "cell_type": "markdown",
   "source": "*OBSERVAÇÃO: o conteúdo presente no `companion object` deve ser acessado por meio da classe em si, e não de seus objetos. A execução do código abaixo, portanto, ocasiona um erro, já que estamos tentando acessar o contador a partir da instância de uma classe, e não dela mesma.*"
  },
  {
   "metadata": {
    "collapsed": false
   },
   "cell_type": "code",
   "source": "// println(aluno2.contador)",
   "outputs": [],
   "execution_count": null
  },
  {
   "cell_type": "markdown",
   "metadata": {
    "collapsed": false
   },
   "source": [
    "### 2.5 Modificadores de visiblidade"
   ]
  },
  {
   "cell_type": "markdown",
   "metadata": {
    "collapsed": false
   },
   "source": "#### 2.5.1 Private, Protected, Internal e Public"
  },
  {
   "cell_type": "markdown",
   "metadata": {
    "collapsed": false
   },
   "source": [
    "`private`: restringe o acesso a classes, métodos e atributos.\n",
    "\n",
    "`protected`: permite acesso a propriedades e métodos dentro da própria classe e também em suas subclasses (classes que herdam dela).\n",
    "\n",
    "`internal`: restringe o acesso a elementos apenas dentro do módulo (arquivo) em que estão declarados.\n",
    "\n",
    "`public`: permite o acesso a classes, métodos e atributos por qualquer objeto ou classe do mesmo projeto."
   ]
  },
  {
   "cell_type": "markdown",
   "metadata": {
    "collapsed": false
   },
   "source": [
    "No exemplo abaixo, é criada a classe `Carro` com atributos com diferentes modificadores de visibilidade.\n",
    "\n",
    "Veja que o método `exibirInfo()` tem acesso a todos os atributos pois está dentro da própria classe.\n",
    "\n",
    "Porém, na subclasse `CarroEsportivo`, esse método é modificado pois não consegue acessar o atributo `ano`, visto que ele foi definido como `private` na superclasse. No entanto, ele consegue acessar o atributo `cor`, já que esse foi definido como `protected`."
   ]
  },
  {
   "cell_type": "code",
   "metadata": {
    "collapsed": false,
    "ExecuteTime": {
     "end_time": "2024-11-09T01:03:31.623823700Z",
     "start_time": "2024-11-09T01:03:30.529829400Z"
    }
   },
   "source": [
    "open class Carro {\n",
    "    private var marca: String = \"Ford\"\n",
    "    internal var modelo: String = \"Fiesta\"\n",
    "    public var ano: Int = 2022\n",
    "    protected var cor: String = \"Preto\"\n",
    "\n",
    "    open fun exibirInfo() {\n",
    "        println(\"Marca: $marca, Modelo: $modelo, Ano: $ano, Cor: $cor\")\n",
    "    }\n",
    "}\n",
    "\n",
    "class CarroEsportivo : Carro() {\n",
    "    override fun exibirInfo() {\n",
    "        println(\"Modelo: $modelo, Ano: $ano, Cor: $cor\") // Sem exibir a marca, já que é um atributo privado de Carro\n",
    "    }\n",
    "}\n",
    "\n",
    "val meuCarro = Carro()\n",
    "\n",
    "// Acesso permitido ao atributo ano (public)\n",
    "println(\"Ano do carro: ${meuCarro.ano}\")\n",
    "\n",
    "// Acesso permitido ao atributo modelo (internal)\n",
    "println(\"Modelo do carro: ${meuCarro.modelo}\")\n",
    "\n",
    "// Acesso proibido ao atributo \"marca\" por ser private. A execução resultará em um erro.\n",
    "// println(\"Marca do carro: ${meuCarro.marca}\")\n",
    "\n",
    "// Acesso proibido ao atributo \"cor\" por ser protected. A execução resultará em um erro.\n",
    "// println(\"Cor do carro: ${meuCarro.cor}\")\n",
    "\n",
    "meuCarro.exibirInfo()\n",
    "\n",
    "val meuCarroEsportivo = CarroEsportivo()\n",
    "meuCarroEsportivo.exibirInfo()\n"
   ],
   "outputs": [
    {
     "name": "stdout",
     "output_type": "stream",
     "text": [
      "Ano do carro: 2022\r\n",
      "Modelo do carro: Fiesta\r\n",
      "Marca: Ford, Modelo: Fiesta, Ano: 2022, Cor: Preto\r\n",
      "Modelo: Fiesta, Ano: 2022, Cor: Preto\r\n"
     ]
    }
   ],
   "execution_count": 50
  },
  {
   "cell_type": "markdown",
   "metadata": {
    "collapsed": false
   },
   "source": [
    "## 3. Classes diferentes"
   ]
  },
  {
   "cell_type": "markdown",
   "metadata": {
    "collapsed": false
   },
   "source": [
    "### 3.1 Abstratas"
   ]
  },
  {
   "cell_type": "markdown",
   "metadata": {
    "collapsed": false
   },
   "source": [
    "\n",
    "Uma classe abstrata em Kotlin é uma classe que não pode ser instanciada diretamente e pode conter métodos abstratos (sem implementação) que devem ser definidos por suas subclasses. Tanto a classe como os métodos abstratos são definidos pelo uso da palavra-chave **abstract**.\n",
    "\n",
    "No exemplo abaixo, é criada a classe abstrata `Animal` com seus respectivos métodos."
   ]
  },
  {
   "cell_type": "code",
   "metadata": {
    "collapsed": false,
    "ExecuteTime": {
     "end_time": "2024-11-09T01:03:48.596915800Z",
     "start_time": "2024-11-09T01:03:48.035840Z"
    }
   },
   "source": [
    "abstract class Animal {\n",
    "    abstract val nome: String\n",
    "\n",
    "    abstract fun emitirSom()\n",
    "\n",
    "    fun comer() {\n",
    "        println(\"$nome está comendo!\")\n",
    "    }\n",
    "}"
   ],
   "outputs": [],
   "execution_count": 51
  },
  {
   "cell_type": "markdown",
   "metadata": {
    "collapsed": false
   },
   "source": [
    "Como o método `emitirSom()` não foi implementado na classe abstrata, na classe `Gato` (que herda de `Animal`), esse método precisa ser implementado. Já o método `comer()`, como recebeu implementação na superclasse, não precisa ser implementado."
   ]
  },
  {
   "cell_type": "code",
   "metadata": {
    "collapsed": false,
    "ExecuteTime": {
     "end_time": "2024-11-09T01:03:51.382683900Z",
     "start_time": "2024-11-09T01:03:51.217240800Z"
    }
   },
   "source": [
    "class Gato(override val nome: String): Animal() {\n",
    "    override fun emitirSom() {\n",
    "        println(\"Miau\")\n",
    "    }\n",
    "}\n",
    "\n",
    "val gato1 = Gato(\"Princesinho\")\n",
    "gato1.comer()"
   ],
   "outputs": [
    {
     "name": "stdout",
     "output_type": "stream",
     "text": [
      "Princesinho está comendo!\r\n"
     ]
    }
   ],
   "execution_count": 52
  },
  {
   "cell_type": "markdown",
   "metadata": {
    "collapsed": false
   },
   "source": [
    "### 3.2 Interfaces"
   ]
  },
  {
   "cell_type": "markdown",
   "metadata": {
    "collapsed": false
   },
   "source": [
    "Uma interface é um meio de conter algumas declarações prévias que uma classe deve conter (mapeamento das atividades,processos,argumentos e retornos). Ela cria uma espécie de \"contrato\" que as classes que a implementam devem seguir estritamente.\n",
    "\n",
    "A classe exemplo `AcaoAnimal` criada abaixo define as ações padrões de um animal."
   ]
  },
  {
   "cell_type": "code",
   "metadata": {
    "collapsed": false,
    "ExecuteTime": {
     "end_time": "2024-11-09T01:03:58.354519Z",
     "start_time": "2024-11-09T01:03:58.273860200Z"
    }
   },
   "source": [
    "interface AcaoAnimal {\n",
    "    fun emitirSom(): Unit\n",
    "    fun realizarAcao(): Unit\n",
    "}"
   ],
   "outputs": [],
   "execution_count": 53
  },
  {
   "cell_type": "markdown",
   "metadata": {
    "collapsed": false
   },
   "source": [
    "Adiante, é feito o uso dessa interface ao criar as classes `Cachorro` e `Passaro`. Perceba que ambas implementam os métodos definidos na interface `AcaoAnimal`. \n",
    "\n",
    "Ao executá-los, eles diferenciam seu resultado de acordo com o objeto que o chamou."
   ]
  },
  {
   "cell_type": "code",
   "metadata": {
    "collapsed": false,
    "ExecuteTime": {
     "end_time": "2024-11-09T01:04:01.890705500Z",
     "start_time": "2024-11-09T01:04:01.662877100Z"
    }
   },
   "source": [
    "class Cachorro : AcaoAnimal {\n",
    "    override fun realizarAcao() {\n",
    "        println(\"O cachorro late e pula.\")\n",
    "    }\n",
    "\n",
    "    override fun emitirSom() {\n",
    "        println(\"Auau!\")\n",
    "    }\n",
    "}\n",
    "\n",
    "class Passaro : AcaoAnimal {\n",
    "    override fun realizarAcao() {\n",
    "        println(\"O pássaro pia e cisca.\")\n",
    "    }\n",
    "\n",
    "    override fun emitirSom() {\n",
    "        println(\"Piu piuuu!\")\n",
    "    }\n",
    "}\n",
    "\n",
    "val cachorro = Cachorro()\n",
    "cachorro.realizarAcao()\n",
    "cachorro.emitirSom()\n",
    "\n",
    "val passaro = Passaro()\n",
    "passaro.realizarAcao()\n",
    "passaro.emitirSom()"
   ],
   "outputs": [
    {
     "name": "stdout",
     "output_type": "stream",
     "text": [
      "O cachorro late e pula.\r\n",
      "Auau!\r\n",
      "O pássaro pia e cisca.\r\n",
      "Piu piuuu!\r\n"
     ]
    }
   ],
   "execution_count": 54
  },
  {
   "cell_type": "markdown",
   "metadata": {
    "collapsed": false
   },
   "source": [
    "### 3.3 Open "
   ]
  },
  {
   "cell_type": "markdown",
   "metadata": {
    "collapsed": false
   },
   "source": [
    "Uma _Open Class_ é uma classe que pode ser herdada por outras classes.\n",
    "Usamos a palavra-chave **open** para isso.\n",
    "\n",
    "Abaixo, é criada a classe \"aberta\" `Animal`."
   ]
  },
  {
   "cell_type": "code",
   "metadata": {
    "collapsed": false,
    "ExecuteTime": {
     "end_time": "2024-11-09T01:04:28.749589100Z",
     "start_time": "2024-11-09T01:04:28.627195700Z"
    }
   },
   "source": [
    "open class Animal(val nome: String) {\n",
    "    open fun comer(comida: String) {\n",
    "        println(\"$nome está comendo $comida.\")\n",
    "    }\n",
    "}"
   ],
   "outputs": [],
   "execution_count": 55
  },
  {
   "cell_type": "markdown",
   "metadata": {
    "collapsed": false
   },
   "source": [
    "Como `Animal` utilizou a palavra-chave *open*, ela pode ser herdada pela subclasse abaixo chamada `Dinossauro`. Veja como ela acessa o método `comer()` da superclasse."
   ]
  },
  {
   "cell_type": "code",
   "metadata": {
    "collapsed": false,
    "ExecuteTime": {
     "end_time": "2024-11-09T01:04:31.413206500Z",
     "start_time": "2024-11-09T01:04:31.273677Z"
    }
   },
   "source": [
    "class Dinossauro(nome: String): Animal(nome)\n",
    "\n",
    "val dinossauro1 = Dinossauro(\"T-Rex\")\n",
    "dinossauro1.comer(\"Triceratops\")"
   ],
   "outputs": [
    {
     "name": "stdout",
     "output_type": "stream",
     "text": [
      "T-Rex está comendo Triceratops.\r\n"
     ]
    }
   ],
   "execution_count": 56
  },
  {
   "cell_type": "markdown",
   "metadata": {
    "collapsed": false
   },
   "source": [
    "### 3.4 Data Class"
   ]
  },
  {
   "cell_type": "markdown",
   "metadata": {
    "collapsed": false
   },
   "source": [
    "_Data Class_ em Kotlin é uma classe especializada em armazenar dados.\n",
    "Fornece por padrão métodos como `equals` e `toString`, que não estão disponíveis em classes comuns. Isso economiza tempo e reduz a quantidade de código que você precisa escrever para criar uma classe simples que apenas mantém dados.\n",
    "\n",
    "No exemplo abaixo, é criada um _dataclass_ `Medico` que armazena as informações típicas de um médico."
   ]
  },
  {
   "cell_type": "code",
   "metadata": {
    "collapsed": false,
    "ExecuteTime": {
     "end_time": "2024-11-09T01:04:44.441982300Z",
     "start_time": "2024-11-09T01:04:44.037085Z"
    }
   },
   "source": [
    "data class Medico(val CRM: Long, val nome: String)\n",
    "\n",
    "val medico1 = Medico(21050156, \"Daniel Alves Montenegro\")\n",
    "println(medico1.toString())"
   ],
   "outputs": [
    {
     "name": "stdout",
     "output_type": "stream",
     "text": [
      "Medico(CRM=21050156, nome=Daniel Alves Montenegro)\r\n"
     ]
    }
   ],
   "execution_count": 57
  },
  {
   "cell_type": "markdown",
   "metadata": {
    "collapsed": false
   },
   "source": [
    "### 3.5 Nested"
   ]
  },
  {
   "cell_type": "markdown",
   "metadata": {
    "collapsed": false
   },
   "source": [
    "As classes em Kotlin podem ser aninhadas a outras classes. Nesses casos, uma classe é declarada dentro de outra classe.\n",
    "\n",
    "Abaixo, é criada a classe `Escola` que possui a classe aninhada `Aluno`."
   ]
  },
  {
   "metadata": {},
   "cell_type": "markdown",
   "source": "#### 3.5.1 Aninhamento de classes em classes"
  },
  {
   "metadata": {
    "collapsed": false,
    "ExecuteTime": {
     "end_time": "2024-11-09T01:04:57.480211400Z",
     "start_time": "2024-11-09T01:04:57.306146300Z"
    }
   },
   "cell_type": "code",
   "source": [
    "class Escola(val nomeDaEscola: String) {\n",
    "    class Aluno(val nome: String, var idade: Int) {\n",
    "        fun acessarDetalhes() {\n",
    "            println(\"O aluno $nome tem $idade anos.\")\n",
    "        }\n",
    "    }\n",
    "}\n",
    "\n",
    "val escola = Escola(\"IFPB\")\n",
    "val aluno = Escola.Aluno(\"Guilherme\", 21)\n",
    "aluno.acessarDetalhes()\n"
   ],
   "outputs": [
    {
     "name": "stdout",
     "output_type": "stream",
     "text": [
      "O aluno Guilherme tem 21 anos.\r\n"
     ]
    }
   ],
   "execution_count": 58
  },
  {
   "cell_type": "markdown",
   "metadata": {
    "collapsed": false
   },
   "source": [
    "Também é possível usar essa ideia de aninhamento com _interfaces_. Todas as combinações entre classes e interfaces são possíveis: Você pode aninhar interfaces em classes, classes em interfaces e interfaces em interfaces."
   ]
  },
  {
   "metadata": {},
   "cell_type": "markdown",
   "source": "#### 3.5.2 Aninhamento de interfaces em classes"
  },
  {
   "cell_type": "markdown",
   "metadata": {
    "collapsed": false
   },
   "source": "Vamos considerar um exemplo onde temos uma classe `Loja` que precisa lidar com diferentes tipos de produtos, cada um com suas próprias características específicas. Podemos aninhar uma interface `Produto` dentro da classe `Loja` para definir métodos comuns para todos os produtos."
  },
  {
   "cell_type": "code",
   "metadata": {
    "collapsed": false,
    "ExecuteTime": {
     "end_time": "2024-11-09T01:05:02.436717400Z",
     "start_time": "2024-11-09T01:05:02.135038Z"
    }
   },
   "source": [
    "class Loja(val nome: String) {\n",
    "    interface Produto {\n",
    "        fun mostrarDetalhes()\n",
    "        fun calcularPreco(): Double\n",
    "    }\n",
    "\n",
    "    class Livro(val titulo: String, val autor: String, val preco: Double) : Produto {\n",
    "        override fun mostrarDetalhes() {\n",
    "            println(\"Livro: $titulo, Autor: $autor\")\n",
    "        }\n",
    "\n",
    "        override fun calcularPreco(): Double {\n",
    "            return preco\n",
    "        }\n",
    "    }\n",
    "}\n",
    "\n",
    "val livro = Loja.Livro(\"O Senhor dos Anéis\", \"J.R.R. Tolkien\", 39.90)\n",
    "livro.mostrarDetalhes()\n",
    "println(\"Preço: R$ ${livro.calcularPreco()}\")\n"
   ],
   "outputs": [
    {
     "name": "stdout",
     "output_type": "stream",
     "text": [
      "Livro: O Senhor dos Anéis, Autor: J.R.R. Tolkien\r\n",
      "Preço: R$ 39.9\r\n"
     ]
    }
   ],
   "execution_count": 59
  },
  {
   "metadata": {},
   "cell_type": "markdown",
   "source": "#### 3.5.3 Aninhamento de classes em interfaces"
  },
  {
   "cell_type": "markdown",
   "metadata": {
    "collapsed": false
   },
   "source": "Vamos criar uma interface `Pagamento` que define operações comuns para diferentes métodos de pagamento, e aninharemos uma classe `Transacao` dentro dela para lidar com os detalhes de uma transação de pagamento."
  },
  {
   "cell_type": "code",
   "metadata": {
    "collapsed": false,
    "ExecuteTime": {
     "end_time": "2024-11-09T01:05:08.672149200Z",
     "start_time": "2024-11-09T01:05:08.482600400Z"
    }
   },
   "source": [
    "interface Pagamento {\n",
    "    class Transacao(val valor: Double, val descricao: String) {\n",
    "        fun processar() {\n",
    "            println(\"Processando transação de $descricao no valor de R$ $valor\")\n",
    "     \t\t// ...\n",
    "        }\n",
    "    }\n",
    "\n",
    "    fun realizarPagamento()\n",
    "}\n",
    "\n",
    "class CartaoCredito : Pagamento {\n",
    "    override fun realizarPagamento() {\n",
    "        val transacao = Pagamento.Transacao(100.0, \"Compra com cartão de crédito\")\n",
    "        transacao.processar()\n",
    "    }\n",
    "}\n",
    "\n",
    "val cartaoCredito = CartaoCredito()\n",
    "cartaoCredito.realizarPagamento()\n"
   ],
   "outputs": [
    {
     "name": "stdout",
     "output_type": "stream",
     "text": [
      "Processando transação de Compra com cartão de crédito no valor de R$ 100.0\r\n"
     ]
    }
   ],
   "execution_count": 60
  },
  {
   "metadata": {},
   "cell_type": "markdown",
   "source": "#### 3.5.4 Aninhamento de interfaces em interfaces"
  },
  {
   "cell_type": "markdown",
   "metadata": {
    "collapsed": false
   },
   "source": "Vamos criar uma interface `Animal` que define características comuns de animais, e uma interface aninhada `Som` para representar os sons que cada animal faz."
  },
  {
   "cell_type": "code",
   "metadata": {
    "collapsed": false,
    "ExecuteTime": {
     "end_time": "2024-11-09T01:05:26.030717500Z",
     "start_time": "2024-11-09T01:05:25.811905800Z"
    }
   },
   "source": [
    "interface Animal {\n",
    "    interface Som {\n",
    "        fun fazerSom()\n",
    "    }\n",
    "\n",
    "    fun mover()\n",
    "}\n",
    "\n",
    "class Cachorro : Animal {\n",
    "    override fun mover() {\n",
    "        println(\"O cachorro está correndo.\")\n",
    "    }\n",
    "\n",
    "    inner class Latido : Animal.Som {\n",
    "        override fun fazerSom() {\n",
    "            println(\"Au au!\")\n",
    "        }\n",
    "    }\n",
    "}\n",
    "\n",
    "\n",
    "val cachorro = Cachorro()\n",
    "val latido = cachorro.Latido()\n",
    "\n",
    "cachorro.mover()\n",
    "latido.fazerSom()"
   ],
   "outputs": [
    {
     "name": "stdout",
     "output_type": "stream",
     "text": [
      "O cachorro está correndo.\r\n",
      "Au au!\r\n"
     ]
    }
   ],
   "execution_count": 61
  },
  {
   "cell_type": "markdown",
   "metadata": {
    "collapsed": false
   },
   "source": [
    "### 3.6 Inner        "
   ]
  },
  {
   "cell_type": "markdown",
   "metadata": {
    "collapsed": false
   },
   "source": [
    "São como as nested classes, mas permitindo o acesso de itens da classe mais externa. Devem ser declaradas com a palavra-chave **inner**.\n",
    "\n",
    "No exemplo abaixo, criamos uma classe `Carro` que possui uma classe aninhada `Motor`. Nesse caso, a classe interna acessa o atributo `modelo` da classe externa no método `ligar()`."
   ]
  },
  {
   "cell_type": "code",
   "metadata": {
    "collapsed": false,
    "ExecuteTime": {
     "end_time": "2024-11-09T01:05:33.130963500Z",
     "start_time": "2024-11-09T01:05:33.005272800Z"
    }
   },
   "source": [
    "class Carro(val modelo: String) {\n",
    "    inner class Motor(val tipo: String) {\n",
    "        fun ligar() {\n",
    "            println(\"$modelo: Motor $tipo ligado.\")\n",
    "        }\n",
    "    }\n",
    "}\n",
    "\n",
    "val carro = Carro(\"BMW\")\n",
    "val motor = carro.Motor(\"Rotativo\")\n",
    "motor.ligar()\n"
   ],
   "outputs": [
    {
     "name": "stdout",
     "output_type": "stream",
     "text": [
      "BMW: Motor Rotativo ligado.\r\n"
     ]
    }
   ],
   "execution_count": 62
  },
  {
   "cell_type": "markdown",
   "metadata": {
    "collapsed": false
   },
   "source": [
    "### 3.7 Sealed"
   ]
  },
  {
   "cell_type": "markdown",
   "metadata": {
    "collapsed": false
   },
   "source": [
    "É uma classe especial que restringe a hieraquia das subclasses a um conjunto dentro do próprio arquivo.\n",
    "Ou seja, pode somente ser herdada dentro do arquivo onde foi criada.\n",
    "\n",
    "No exemplo mostrado abaixo, é criada a classe `Resultado` que é herdada pela classe `Sucesso` que está dentro do mesmo arquivo."
   ]
  },
  {
   "cell_type": "code",
   "metadata": {
    "collapsed": false,
    "ExecuteTime": {
     "end_time": "2024-11-09T01:05:38.782219400Z",
     "start_time": "2024-11-09T01:05:38.623918Z"
    }
   },
   "source": [
    "sealed class Resultado(val mensagem: String) {\n",
    "    fun mostrar() {\n",
    "        println(\"O resultado foi: $mensagem.\")\n",
    "    }\n",
    "}\n",
    "\n",
    "class Sucesso(mensagem: String) : Resultado(mensagem)\n",
    "\n",
    "val sucesso = Sucesso(\"Feito com sucesso\")\n",
    "sucesso.mostrar()"
   ],
   "outputs": [
    {
     "name": "stdout",
     "output_type": "stream",
     "text": [
      "O resultado foi: Feito com sucesso.\r\n"
     ]
    }
   ],
   "execution_count": 63
  },
  {
   "cell_type": "markdown",
   "metadata": {
    "collapsed": false
   },
   "source": [
    "Porém, na classe `Erro` abaixo, o código não compilaria pois é como se as células fossem módulos diferentes e, por isso, a classe `Resultado` não pode ser herdada."
   ]
  },
  {
   "cell_type": "code",
   "metadata": {
    "collapsed": false
   },
   "source": "// class Erro(mensagem: String): Resultado(mensagem)",
   "outputs": [],
   "execution_count": null
  },
  {
   "cell_type": "markdown",
   "metadata": {
    "collapsed": false
   },
   "source": [
    "### 3.8 Singleton"
   ]
  },
  {
   "cell_type": "markdown",
   "metadata": {
    "collapsed": false
   },
   "source": [
    "Semelhante ao `static` de Java.\n",
    "A singleton é uma instância única de uma classe. No Kotlin, isso é frequentemente implementado usando um objeto, pois os objetos são instâncias únicas por definição.\n",
    "\n",
    "No exemplo abaixo, foi criado uma classe singleton `Fachada` que se caracteriza por ser uma instância única. Perceba que a classe não foi instanciada em um objeto, e sim acessada diretamente. "
   ]
  },
  {
   "cell_type": "code",
   "metadata": {
    "collapsed": false,
    "ExecuteTime": {
     "end_time": "2024-11-09T01:09:16.426297300Z",
     "start_time": "2024-11-09T01:09:16.348314600Z"
    }
   },
   "source": [
    "object Fachada {\n",
    "    fun criarObjeto() {\n",
    "        println(\"Criando objeto...\")\n",
    "    }\n",
    "    \n",
    "    fun deletarObjeto() {\n",
    "        println(\"Deletando objeto...\")\n",
    "    }\n",
    "}\n",
    "\n",
    "Fachada.criarObjeto()\n",
    "Fachada.deletarObjeto()"
   ],
   "outputs": [
    {
     "name": "stdout",
     "output_type": "stream",
     "text": [
      "Criando objeto...\r\n",
      "Deletando objeto...\r\n"
     ]
    }
   ],
   "execution_count": 92
  },
  {
   "cell_type": "markdown",
   "metadata": {
    "collapsed": false
   },
   "source": [
    "### 3.9 Enum"
   ]
  },
  {
   "cell_type": "markdown",
   "metadata": {
    "collapsed": false
   },
   "source": [
    "É uma estrutura de um conjunto fixo de valores nomeados e definidos.\n",
    "\n",
    "Abaixo, é criado um _Enum_ `Dia` que armazena os valores definidos dos dias da semana associados a um número : Int.\n",
    "\n",
    "A função `mensagemDia()` recebe um valor inteiro e, acessando `Dia`, verifica se o dia é \"Dia de trabalho\" ou \"Fim de semana\"."
   ]
  },
  {
   "metadata": {
    "ExecuteTime": {
     "end_time": "2024-11-09T01:12:45.567279700Z",
     "start_time": "2024-11-09T01:12:45.343015200Z"
    }
   },
   "cell_type": "code",
   "source": [
    "enum class Dia(val numero: Int) {\n",
    "    DOMINGO(1),\n",
    "    SEGUNDA(2),\n",
    "    TERCA(3),\n",
    "    QUARTA(4),\n",
    "    QUINTA(5),\n",
    "    SEXTA(6),\n",
    "    SABADO(7)\n",
    "}\n",
    "\n",
    "fun mensagemDia(numeroDia: Int) {\n",
    "\n",
    "    val msg = when (numeroDia) {\n",
    "        Dia.DOMINGO.numero, Dia.SABADO.numero -> \"Fim de semana\"\n",
    "        else -> \"Dia de trabalho\"\n",
    "    }\n",
    "\n",
    "    println(\"Número do dia: $numeroDia. $msg\")\n",
    "}\n",
    "\n",
    "mensagemDia(2)  // SEGUNDA\n",
    "mensagemDia(7)  // SABADO"
   ],
   "outputs": [
    {
     "name": "stdout",
     "output_type": "stream",
     "text": [
      "Número do dia: 2. Dia de trabalho\r\n",
      "Número do dia: 7. Fim de semana\r\n"
     ]
    }
   ],
   "execution_count": 113
  },
  {
   "metadata": {},
   "cell_type": "markdown",
   "source": "No exemplo abaixo, temos a classe `Operacao`, que possui os valores `SOMA` e `SUBTRACAO`. Cada um está sobrescrevendo o método `calcular` do método abstrato `calcular`."
  },
  {
   "metadata": {
    "collapsed": false,
    "ExecuteTime": {
     "end_time": "2024-11-09T01:06:31.882891300Z",
     "start_time": "2024-11-09T01:06:31.682029500Z"
    }
   },
   "cell_type": "code",
   "source": [
    "enum class Operacao {\n",
    "    SOMA {\n",
    "        override fun calcular(x: Int, y: Int) = x + y\n",
    "    },\n",
    "    SUBTRACAO {\n",
    "        override fun calcular(x: Int, y: Int) = x - y\n",
    "    };\n",
    "\n",
    "    abstract fun calcular(x: Int, y: Int): Int\n",
    "}\n",
    "\n",
    "\n",
    "val resultado = Operacao.SOMA.calcular(5, 3)\n",
    "println(\"Resultado da operação: $resultado\")"
   ],
   "outputs": [
    {
     "name": "stdout",
     "output_type": "stream",
     "text": [
      "Resultado da operação: 8\r\n"
     ]
    }
   ],
   "execution_count": 68
  },
  {
   "cell_type": "markdown",
   "metadata": {
    "collapsed": false
   },
   "source": [
    "## 4. Override"
   ]
  },
  {
   "cell_type": "markdown",
   "metadata": {
    "collapsed": false
   },
   "source": [
    "### 4.1 Overriding de getters e setters"
   ]
  },
  {
   "cell_type": "markdown",
   "metadata": {
    "collapsed": false
   },
   "source": [
    "O Kotlin gera implicitamente os métodos getters e setters com implementação padrão para propriedades declaradas.\n",
    "\n",
    "O `override` permite substituir o comportamento padrão dos `getters` e `setters` de uma propriedade. "
   ]
  },
  {
   "cell_type": "code",
   "metadata": {
    "collapsed": false,
    "ExecuteTime": {
     "end_time": "2024-11-09T01:09:16.830737900Z",
     "start_time": "2024-11-09T01:09:16.714890300Z"
    }
   },
   "source": [
    "open class Animal {\n",
    "    open var nome: String = \"ferdinando\"\n",
    "        get() = field.replaceFirstChar { it.uppercase() } // Este getter capitaliza a string\n",
    "        set(value) {\n",
    "            field = value.lowercase() // Este setter converte a string para minúsculas\n",
    "        }\n",
    "}\n",
    "// obs.: \"field\" é uma palavra-chave reservada que representa a variável interna que armazena o valor de uma propriedade.\n",
    "\n",
    "val meuAnimal = Animal()\n",
    "meuAnimal.nome = \"ToTo\"\n",
    "println(meuAnimal.nome)"
   ],
   "outputs": [
    {
     "name": "stdout",
     "output_type": "stream",
     "text": [
      "Toto\r\n"
     ]
    }
   ],
   "execution_count": 94
  },
  {
   "cell_type": "markdown",
   "metadata": {
    "collapsed": false
   },
   "source": [
    "O `override` também é crucial quando herdamos uma classe e queremos modificar o comportamento das propriedades dessa superclasse.\n",
    "\n",
    "Geralmente, você o usará para personalizar como sua classe manipula o acesso e a modificação de propriedades herdadas, especialmente quando precisa validar ou transformar os valores atribuídos de maneira específica.\n",
    "\n",
    "No exemplo abaixo, possuimos a superclasse `Animal` da qual as classes `Cachorro` e `Gato` herdarão a propriedade `nome`.\n",
    "\n",
    "Ao instanciarmos as classes filhas o override dos `setters` será responsável por adicionar os prefixos correspondentes."
   ]
  },
  {
   "cell_type": "code",
   "metadata": {
    "collapsed": false,
    "ExecuteTime": {
     "end_time": "2024-11-09T01:09:17.010821900Z",
     "start_time": "2024-11-09T01:09:16.854354700Z"
    }
   },
   "source": [
    "open class Animal {\n",
    "    open var nome: String = \"\"\n",
    "}\n",
    "\n",
    "class Cachorro : Animal() {\n",
    "    override var nome: String = \"\"\n",
    "        set(value) {\n",
    "            field = \"Cachorro: $value\" // Adiciona prefixo \"Cachorro: \" ao nome do cachorro\n",
    "        }\n",
    "}\n",
    "\n",
    "class Gato : Animal() {\n",
    "    override var nome: String = \"\"\n",
    "        set(value) {\n",
    "            field = \"Gato: $value\" // Adiciona prefixo \"Gato: \" ao nome do gato\n",
    "        }\n",
    "}\n",
    "\n",
    "val meuCachorro = Cachorro()\n",
    "meuCachorro.nome = \"Rex\"\n",
    "println(meuCachorro.nome)\n",
    "\n",
    "val meuGato = Gato()\n",
    "meuGato.nome = \"Garfield\"\n",
    "println(meuGato.nome)"
   ],
   "outputs": [
    {
     "name": "stdout",
     "output_type": "stream",
     "text": [
      "Cachorro: Rex\r\n",
      "Gato: Garfield\r\n"
     ]
    }
   ],
   "execution_count": 95
  },
  {
   "cell_type": "markdown",
   "metadata": {
    "collapsed": false
   },
   "source": [
    "### 4.2 Backing Fields"
   ]
  },
  {
   "cell_type": "markdown",
   "metadata": {
    "collapsed": false
   },
   "source": [
    "Os `Backing Fields` ou campos de suporte são campos internos gerados automaticamente pelo Kotlin. Isso significa que, ao declarar uma propriedade em Kotlin, o compilador cria automaticamente um backing field.\n",
    "\n",
    "Possuem a função de armazenar os valores das propriedades.\n",
    "\n",
    "São usados principalmente para evitar loops infinitos recursivos, mas, também é possível fornecer uma implementação personalizada para que o `getter` ou `setter` possua outra lógica de armazenamento.\n",
    "\n",
    "Veja só..."
   ]
  },
  {
   "cell_type": "code",
   "metadata": {
    "collapsed": false,
    "ExecuteTime": {
     "end_time": "2024-11-09T01:09:17.135551Z",
     "start_time": "2024-11-09T01:09:17.045260500Z"
    }
   },
   "source": [
    "class Pessoa {\n",
    "    var idade: Int = 0\n",
    "        set(value) {\n",
    "            field = if (value >= 0) value else 0 // Validando a idade para garantir que não seja negativa\n",
    "        }\n",
    "}\n",
    "\n",
    "val pessoa = Pessoa()\n",
    "pessoa.idade = -1\n",
    "println(\"Idade: ${pessoa.idade}\")"
   ],
   "outputs": [
    {
     "name": "stdout",
     "output_type": "stream",
     "text": [
      "Idade: 0\r\n"
     ]
    }
   ],
   "execution_count": 96
  },
  {
   "cell_type": "markdown",
   "metadata": {
    "collapsed": false
   },
   "source": [
    "No exemplo acima, a palavra `field` indica que será implementada uma outra lógica para o `setter` da propriedade `idade`, garantindo que o valor assumido não seja negativo."
   ]
  },
  {
   "cell_type": "markdown",
   "metadata": {
    "collapsed": false
   },
   "source": [
    "### 4.3 Backing properties"
   ]
  },
  {
   "cell_type": "markdown",
   "metadata": {
    "collapsed": false
   },
   "source": [
    "`Backing properties` ou propriedades de suporte, são propriedades que utilizam `backing fields` (campos internos) para armazenar seus valores, mas fornecem um controle mais refinado sobre o acesso e modificação desses valores.\n",
    "\n",
    "Um exemplo muito comum da utilização desse tipo de propriedade é quando precisa-se iniciar uma propriedade de forma preguiçosa (`Lazy`), ou seja, inicializar o valor apenas quando ele é acessado pela primeira vez.\n",
    "\n",
    "Eis um exemplo de como pode-se utilizar:"
   ]
  },
  {
   "cell_type": "code",
   "metadata": {
    "collapsed": false,
    "ExecuteTime": {
     "end_time": "2024-11-09T01:09:17.251394200Z",
     "start_time": "2024-11-09T01:09:17.157589300Z"
    }
   },
   "source": [
    "class Pessoa {\n",
    "    private var _idade: Int? = null // Backing field, o sinal ? indica que a propriedade é opcional\n",
    "    val idade: Int\n",
    "        get() {\n",
    "            if (_idade == null) {\n",
    "                _idade = calcularIdade() // Inicialização preguiçosa\n",
    "            }\n",
    "            return _idade!! // O sinal !! garante que idade não possa ser nulo\n",
    "        }\n",
    "\n",
    "    private fun calcularIdade(): Int {\n",
    "        return 30 // Valor escolhido apenas como exemplo\n",
    "    }\n",
    "}\n",
    "\n",
    "val pessoa = Pessoa()\n",
    "println(\"Idade: ${pessoa.idade}\")"
   ],
   "outputs": [
    {
     "name": "stdout",
     "output_type": "stream",
     "text": [
      "Idade: 30\r\n"
     ]
    }
   ],
   "execution_count": 97
  },
  {
   "cell_type": "markdown",
   "metadata": {
    "collapsed": false
   },
   "source": [
    "Acima utilizamos o backing field `_idade` para armazenar o valor da backing property `idade`, mas fornecemos um getter personalizado que nos permite calcular a idade apenas quando a propriedade for acessada pela primeira vez.\n",
    "\n",
    "Essa implementação nos permite uma maior economia dos recursos da máquina, especialmente nos casos em que o cálculo dessa propriedade é custoso."
   ]
  },
  {
   "cell_type": "markdown",
   "metadata": {
    "collapsed": false
   },
   "source": [
    "## Prática\n",
    "\n",
    "Agora, para testar os conhecimentos apresentados, vamos realizar um exercício prático abordando alguns dos conceitos que foram abordados acima."
   ]
  },
  {
   "cell_type": "markdown",
   "metadata": {
    "collapsed": false
   },
   "source": [
    "#### Questão 1\n",
    "\n",
    "a) Crie uma classe chamada `Produto` com os seguintes atributos:\n",
    "   - `nome: String`\n",
    "   - `preco: Double`\n",
    "\n",
    "b) Implemente a classe de três formas diferentes, variando o construtor em cada uma delas.\n",
    "   - Um construtor que não recebe parâmetros e inicializa nome como \"Produto\" e preco como 0.0.\n",
    "   - Um construtor que recebe apenas o nome do produto como parâmetro e inicializa preco como 0.0.\n",
    "   - Um construtor que recebe tanto o nome quanto o preço do produto como parâmetros.\n",
    "\n",
    "c) Crie instâncias das diferentes classes `Produto` utilizando os seus construtores e imprima os detalhes de cada produto.\n"
   ]
  },
  {
   "cell_type": "markdown",
   "metadata": {
    "collapsed": false
   },
   "source": [
    "#### Questão 2\n",
    "a) Crie uma classe chamada `Cliente` com os seguintes atributos:\n",
    "   - `nome: String`\n",
    "   - `idade: Int`\n",
    "\n",
    "b) Utilize os *modificadores de visibilidade* para definir que o atributo `nome` seja *público* e o atributo `idade` seja *privado*.\n",
    "\n",
    "c) Crie um método *público* na classe `Cliente` chamado `mostrarIdade()` que imprime a idade do cliente.\n",
    "\n",
    "d) Crie uma instância de `Cliente` e chame o método `mostrarIdade()` para verificar seu funcionamento."
   ]
  },
  {
   "cell_type": "markdown",
   "metadata": {
    "collapsed": false
   },
   "source": [
    "#### Questão 3\n",
    "\n",
    "a) Suponha que você esteja desenvolvendo um sistema de jogos. Crie uma classe abstrata chamada `Personagem` com o método abstrato `atacar()`.\n",
    "\n",
    "b) Imagine que no seu jogo existam diferentes tipos de personagens, como `Guerreiro` e `Mago`. Crie essas subclasses de Personagem e implemente o método `atacar()` de cada uma delas de acordo com suas características de combate. O `Guerreiro` ataca com espada e o `Mago` lança um feitiço.\n",
    "\n",
    "c) Crie instâncias de `Guerreiro` e `Mago` e chame o método `atacar()` de cada um para verificar se estão realizando os ataques corretamente de acordo com suas respectivas classes.\n"
   ]
  },
  {
   "cell_type": "markdown",
   "metadata": {
    "collapsed": false
   },
   "source": [
    "#### Questão 4\n",
    "\n",
    "a) Desenvolva uma interface em chamada `FormaGeometrica` com um método abstrato `calcularArea()`.\n",
    "\n",
    "b) Implemente duas classes, `Retangulo` e `Circulo`, que implementem a interface `FormaGeometrica` e forneçam a implementação do método `calcularArea()` para cada uma delas. A classe `Retangulo` deve receber a altura e a largura como parâmetros no construtor e calcular a área multiplicando a altura pela largura. A classe `Circulo` deve receber o raio como parâmetro no construtor e calcular a área usando a fórmula π * raio * raio.\n",
    "\n",
    "c) Crie instâncias dessas duas classes e chame o método `calcularArea()` em cada uma delas para verificar o resultado.\n"
   ]
  },
  {
   "cell_type": "markdown",
   "metadata": {
    "collapsed": false
   },
   "source": [
    "#### Questão 5\n",
    "\n",
    "a) Crie uma classe chamada `ContaBancaria` com os seguintes atributos: \n",
    "   - `numeroConta: String`\n",
    "   - `nomeTitular: String`\n",
    "   - `saldo: Double`\n",
    "\n",
    "b) Implemente um `getter` personalizado para a propriedade `nomeTitular` para retorná-la iniciando em letra maiúscula.\n",
    "\n",
    "c) Implemente override do `setter` para o atributo `saldo` de forma que o valor do saldo não possa ser negativo. Se um valor negativo for atribuído, o saldo deve ser mantido como zero.\n",
    "\n",
    "d) Crie uma instância de `ContaBancaria`. Altere o nome do titular para uma string que inicie com letra minúscula e mude o saldo para um valor negativo. Imprima os valores para verificar se as regras dos `getters` e `setters` estão sendo aplicadas corretamente.\n"
   ]
  },
  {
   "metadata": {},
   "cell_type": "markdown",
   "source": [
    "#### Questão 6\n",
    "\n",
    "Neste exercício, você vai criar diferentes tipos de veículos, como Carros, Bicicletas e Caminhões. Você deverá usar conceitos de herança, polimorfismo, modificadores de acesso e inicialização de objetos para implementar o comportamento desses veículos de maneira simples e organizada.\n",
    "\n",
    "a) Crie uma classe chamada `Veiculo` com os seguintes atributos protegidos:\n",
    "   - `nome: String`\n",
    "   - `velocidade: Int`\n",
    "   \n",
    "Além disso crie o método `mover()`, que imprime uma mensagem com o nome e a velocidade do veículo.\n",
    "\n",
    "b) Crie as subclasses `Carro`, `Bicicleta` e `Caminhao`, que herdam a estrutura de `Veiculo`. Cada uma delas deve ter um bloco de inicialização `init` que imprime uma mensagem específica dizendo que o veículo foi criado, com seu nome e velocidade.\n",
    "\n",
    "c) Crie uma função chamada `transportar()` que recebe um `Veiculo` como parâmetro e chama o método `mover()` do veículo.\n",
    "\n",
    "d) Dentro da classe `Caminhao`, crie uma classe aninhada chamada `Carga`, que representará a carga do caminhão, com o atributo `peso: Int` e o método `carregar()`. Ela deve ter um bloco `init` que imprime uma mensagem indicando a criação da carga com seu peso.\n"
   ]
  }
 ],
 "metadata": {
  "kernelspec": {
   "display_name": "Kotlin",
   "language": "kotlin",
   "name": "kotlin"
  },
  "language_info": {
   "codemirror_mode": "text/x-kotlin",
   "file_extension": ".kt",
   "mimetype": "text/x-kotlin",
   "name": "kotlin",
   "nbconvert_exporter": "",
   "pygments_lexer": "kotlin",
   "version": "1.9.0"
  }
 },
 "nbformat": 4,
 "nbformat_minor": 0
}
